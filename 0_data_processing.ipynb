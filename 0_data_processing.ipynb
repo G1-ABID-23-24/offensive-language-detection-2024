{
 "cells": [
  {
   "cell_type": "markdown",
   "metadata": {},
   "source": [
    "# 1. Procesado de datos"
   ]
  },
  {
   "cell_type": "code",
   "execution_count": 15,
   "metadata": {
    "scrolled": true
   },
   "outputs": [
    {
     "data": {
      "text/html": [
       "<div>\n",
       "<style scoped>\n",
       "    .dataframe tbody tr th:only-of-type {\n",
       "        vertical-align: middle;\n",
       "    }\n",
       "\n",
       "    .dataframe tbody tr th {\n",
       "        vertical-align: top;\n",
       "    }\n",
       "\n",
       "    .dataframe thead th {\n",
       "        text-align: right;\n",
       "    }\n",
       "</style>\n",
       "<table border=\"1\" class=\"dataframe\">\n",
       "  <thead>\n",
       "    <tr style=\"text-align: right;\">\n",
       "      <th></th>\n",
       "      <th>label</th>\n",
       "      <th>text</th>\n",
       "      <th>id</th>\n",
       "    </tr>\n",
       "  </thead>\n",
       "  <tbody>\n",
       "    <tr>\n",
       "      <th>0</th>\n",
       "      <td>0</td>\n",
       "      <td>Hi Roy hope you are ok, Trans people are not gay. also the only thing thats being rammed down your throat is information about inequality, prejudice and the lack or recognition that 15,000 american trans soldiers have made a pledge that if needs be, they will sacrifice their life for the sake of others. Anyone who is able to join military services to support their country shouldn't be persecuted with such venom. Maybe more appreciation, more tolerance and acceptance and then less wars.</td>\n",
       "      <td>95e98db99c2</td>\n",
       "    </tr>\n",
       "    <tr>\n",
       "      <th>1</th>\n",
       "      <td>0</td>\n",
       "      <td>But fuckin' hell what even is biology</td>\n",
       "      <td>a87b8708e63</td>\n",
       "    </tr>\n",
       "    <tr>\n",
       "      <th>2</th>\n",
       "      <td>0</td>\n",
       "      <td>Whose the nice looking clergyman?</td>\n",
       "      <td>5b3cb03803f</td>\n",
       "    </tr>\n",
       "    <tr>\n",
       "      <th>3</th>\n",
       "      <td>1</td>\n",
       "      <td>AIDS ARE IN YOUR WAY, SIN HAS CONSEQUENCES AND VERY BAD.</td>\n",
       "      <td>5b0bad2347e</td>\n",
       "    </tr>\n",
       "    <tr>\n",
       "      <th>4</th>\n",
       "      <td>0</td>\n",
       "      <td>to learn</td>\n",
       "      <td>332048bd188</td>\n",
       "    </tr>\n",
       "    <tr>\n",
       "      <th>...</th>\n",
       "      <td>...</td>\n",
       "      <td>...</td>\n",
       "      <td>...</td>\n",
       "    </tr>\n",
       "    <tr>\n",
       "      <th>8143</th>\n",
       "      <td>1</td>\n",
       "      <td>Yeah...if we still alive at the time of the next election. Anything can happen and fairly soon. UK is not safe either.</td>\n",
       "      <td>9141edf7189</td>\n",
       "    </tr>\n",
       "    <tr>\n",
       "      <th>8144</th>\n",
       "      <td>0</td>\n",
       "      <td>There is something fundamentally wrong with this</td>\n",
       "      <td>fde30735725</td>\n",
       "    </tr>\n",
       "    <tr>\n",
       "      <th>8145</th>\n",
       "      <td>1</td>\n",
       "      <td>This always confused me. If homosexuality is \"no big deal\", which it isn't, why be proud of it? It's normal, so it isn't an accomplishment. So why celebrate it? I could care less, but I just don't get it.</td>\n",
       "      <td>3d3456b6659</td>\n",
       "    </tr>\n",
       "    <tr>\n",
       "      <th>8146</th>\n",
       "      <td>1</td>\n",
       "      <td>disgusting</td>\n",
       "      <td>eace075fe4d</td>\n",
       "    </tr>\n",
       "    <tr>\n",
       "      <th>8147</th>\n",
       "      <td>0</td>\n",
       "      <td>Peter Sørensen Just a note on Peter's poor maths... 13-27% does not equal \"almost a third\" except in fairy tales ;)</td>\n",
       "      <td>da703acd01e</td>\n",
       "    </tr>\n",
       "  </tbody>\n",
       "</table>\n",
       "<p>8148 rows × 3 columns</p>\n",
       "</div>"
      ],
      "text/plain": [
       "      label                                                                                                                                                                                                                                                                                                                                                                                                                                                                                                        text           id\n",
       "0     0      Hi Roy hope you are ok, Trans people are not gay. also the only thing thats being rammed down your throat is information about inequality, prejudice and the lack or recognition that 15,000 american trans soldiers have made a pledge that if needs be, they will sacrifice their life for the sake of others. Anyone who is able to join military services to support their country shouldn't be persecuted with such venom. Maybe more appreciation, more tolerance and acceptance and then less wars.  95e98db99c2\n",
       "1     0      But fuckin' hell what even is biology                                                                                                                                                                                                                                                                                                                                                                                                                                                                       a87b8708e63\n",
       "2     0      Whose the nice looking clergyman?                                                                                                                                                                                                                                                                                                                                                                                                                                                                           5b3cb03803f\n",
       "3     1      AIDS ARE IN YOUR WAY, SIN HAS CONSEQUENCES AND VERY BAD.                                                                                                                                                                                                                                                                                                                                                                                                                                                    5b0bad2347e\n",
       "4     0      to learn                                                                                                                                                                                                                                                                                                                                                                                                                                                                                                    332048bd188\n",
       "...  ..           ...                                                                                                                                                                                                                                                                                                                                                                                                                                                                                                            ...\n",
       "8143  1      Yeah...if we still alive at the time of the next election. Anything can happen and fairly soon. UK is not safe either.                                                                                                                                                                                                                                                                                                                                                                                      9141edf7189\n",
       "8144  0      There is something fundamentally wrong with this                                                                                                                                                                                                                                                                                                                                                                                                                                                            fde30735725\n",
       "8145  1      This always confused me. If homosexuality is \"no big deal\", which it isn't, why be proud of it? It's normal, so it isn't an accomplishment. So why celebrate it? I could care less, but I just don't get it.                                                                                                                                                                                                                                                                                                3d3456b6659\n",
       "8146  1      disgusting                                                                                                                                                                                                                                                                                                                                                                                                                                                                                                  eace075fe4d\n",
       "8147  0      Peter Sørensen Just a note on Peter's poor maths... 13-27% does not equal \"almost a third\" except in fairy tales ;)                                                                                                                                                                                                                                                                                                                                                                                         da703acd01e\n",
       "\n",
       "[8148 rows x 3 columns]"
      ]
     },
     "execution_count": 15,
     "metadata": {},
     "output_type": "execute_result"
    }
   ],
   "source": [
    "import pandas as pd\n",
    "import numpy as np\n",
    "\n",
    "df = pd.read_csv('./data/train.csv')\n",
    "pd.set_option('max_colwidth', 1)\n",
    "df"
   ]
  },
  {
   "cell_type": "code",
   "execution_count": 3,
   "metadata": {},
   "outputs": [
    {
     "data": {
      "text/plain": [
       "label    0\n",
       "text     0\n",
       "id       0\n",
       "dtype: int64"
      ]
     },
     "execution_count": 3,
     "metadata": {},
     "output_type": "execute_result"
    }
   ],
   "source": [
    "df.isnull().sum()"
   ]
  },
  {
   "cell_type": "code",
   "execution_count": 6,
   "metadata": {
    "scrolled": false
   },
   "outputs": [
    {
     "data": {
      "text/plain": [
       "(8148, 3)"
      ]
     },
     "execution_count": 6,
     "metadata": {},
     "output_type": "execute_result"
    }
   ],
   "source": [
    "df.shape"
   ]
  },
  {
   "cell_type": "code",
   "execution_count": 7,
   "metadata": {},
   "outputs": [
    {
     "data": {
      "text/plain": [
       "label\n",
       "0    5172\n",
       "1    2976\n",
       "Name: count, dtype: int64"
      ]
     },
     "execution_count": 7,
     "metadata": {},
     "output_type": "execute_result"
    }
   ],
   "source": [
    "df['label'].value_counts()"
   ]
  },
  {
   "cell_type": "code",
   "execution_count": 8,
   "metadata": {},
   "outputs": [],
   "source": [
    "import spacy\n",
    "\n",
    "nlp = spacy.load('en_core_web_lg')"
   ]
  },
  {
   "cell_type": "code",
   "execution_count": null,
   "metadata": {},
   "outputs": [],
   "source": [
    "en_stopwords = nlp.Defaults.stop_words\n",
    "\n",
    "def remove_stop_words(text):\n",
    "    cleanText = ''\n",
    "    phrase = nlp(text)\n",
    "    for token in phrase:\n",
    "        if not token.is_stop and not token.is_punct and not token.like_url:\n",
    "            cleanText += ' ' + token.text\n",
    "\n",
    "    return cleanText\n",
    "\n",
    "df['text_cleaned'] = df['text'].apply(remove_stop_words)"
   ]
  },
  {
   "cell_type": "code",
   "execution_count": null,
   "metadata": {},
   "outputs": [],
   "source": [
    "df['text_cleaned']"
   ]
  }
 ],
 "metadata": {
  "kernelspec": {
   "display_name": "Python 3 (ipykernel)",
   "language": "python",
   "name": "python3"
  },
  "language_info": {
   "codemirror_mode": {
    "name": "ipython",
    "version": 3
   },
   "file_extension": ".py",
   "mimetype": "text/x-python",
   "name": "python",
   "nbconvert_exporter": "python",
   "pygments_lexer": "ipython3",
   "version": "3.11.5"
  }
 },
 "nbformat": 4,
 "nbformat_minor": 2
}
