{
 "cells": [
  {
   "cell_type": "markdown",
   "metadata": {},
   "source": [
    "# 1. Procesado de datos"
   ]
  },
  {
   "cell_type": "code",
   "execution_count": null,
   "metadata": {},
   "outputs": [],
   "source": [
    "import pandas as pd\n",
    "import numpy as np\n",
    "\n",
    "df = pd.read_csv('./data/train.csv')"
   ]
  },
  {
   "cell_type": "code",
   "execution_count": null,
   "metadata": {},
   "outputs": [],
   "source": [
    "import spacy\n",
    "\n",
    "nlp = spacy.load('en_core_web_lg')"
   ]
  },
  {
   "cell_type": "code",
   "execution_count": null,
   "metadata": {},
   "outputs": [],
   "source": [
    "en_stopwords = nlp.Defaults.stop_words\n",
    "\n",
    "def remove_stop_words(text):\n",
    "    cleanText = ''\n",
    "    phrase = nlp(text)\n",
    "    for token in phrase:\n",
    "        if not token.is_stop and not token.is_punct and not token.like_url:\n",
    "            cleanText += ' ' + token.text\n",
    "\n",
    "    return cleanText\n",
    "\n",
    "df['text_cleaned'] = df['text'].apply(remove_stop_words)"
   ]
  },
  {
   "cell_type": "code",
   "execution_count": null,
   "metadata": {},
   "outputs": [],
   "source": [
    "df['text_cleaned']"
   ]
  },
  {
   "cell_type": "markdown",
   "metadata": {},
   "source": [
    "Separamos el conjunto en entrenamiento y test."
   ]
  },
  {
   "cell_type": "code",
   "execution_count": null,
   "metadata": {},
   "outputs": [],
   "source": [
    "# spling training and testing\n",
    "from sklearn.model_selection import train_test_split\n",
    "\n",
    "X = df['text_cleaned']\n",
    "y = df['label']\n",
    "\n",
    "#train\n",
    "X_train, X_test, y_train, y_test, = train_test_split(X, y, test_size=0.33, random_state=42)"
   ]
  },
  {
   "cell_type": "code",
   "execution_count": null,
   "metadata": {},
   "outputs": [],
   "source": [
    "from sklearn.model_selection import GridSearchCV\n",
    "from sklearn.feature_extraction.text import TfidfVectorizer\n",
    "from sklearn.svm import LinearSVC\n",
    "from sklearn.pipeline import Pipeline\n",
    "\n",
    "# Define el pipeline\n",
    "text_clf = Pipeline([\n",
    "    ('tfidf', TfidfVectorizer()),\n",
    "    ('clf', LinearSVC())\n",
    "])\n",
    "\n",
    "# Define los parámetros para la búsqueda de cuadrícula de TfidfVectorizer\n",
    "parameters_tfidf = {\n",
    "    'tfidf__max_df': (0.25, 0.5, 0.75),\n",
    "    'tfidf__ngram_range': [(1, 1), (1, 2), (1, 3)],\n",
    "    'tfidf__stop_words': (None, 'english'),\n",
    "    'tfidf__token_pattern': (r\"\\b\\w\\w+\\b\", r\"\\b[a-zA-Z]{3,}\\b\"),\n",
    "    'tfidf__norm': ('l1', 'l2', None),\n",
    "    'tfidf__use_idf': (True, False),\n",
    "    'tfidf__sublinear_tf': (True, False)\n",
    "}\n",
    "\n",
    "# Define los parámetros para la búsqueda de cuadrícula de LinearSVC\n",
    "parameters_svc = {\n",
    "    'clf__penalty': ('l1', 'l2'),\n",
    "    'clf__loss': ('hinge', 'squared_hinge'),\n",
    "    'clf__dual': (True, False),\n",
    "    'clf__tol': (1e-4, 1e-3),\n",
    "    'clf__C': (0.1, 1, 10),\n",
    "    'clf__multi_class': ('ovr', 'crammer_singer'),\n",
    "    'clf__fit_intercept': (True, False),\n",
    "    'clf__intercept_scaling': (1.0, 2.0),\n",
    "    'clf__class_weight': (None, 'balanced'),\n",
    "    'clf__verbose': (0, 1),\n",
    "    'clf__random_state': (None, 42),\n",
    "    'clf__max_iter': (1000, 2000)\n",
    "}\n",
    "\n",
    "# Realiza la búsqueda de cuadrícula para TfidfVectorizer\n",
    "grid_search_tfidf = GridSearchCV(text_clf, parameters_tfidf, cv=5, n_jobs=-1)\n",
    "grid_search_tfidf.fit(X_train, y_train)\n",
    "\n",
    "# Muestra los mejores parámetros encontrados para TfidfVectorizer\n",
    "print(\"Mejores parámetros para TfidfVectorizer:\")\n",
    "print(grid_search_tfidf.best_params_)\n",
    "\n",
    "# Realiza la búsqueda de cuadrícula para LinearSVC\n",
    "grid_search_svc = GridSearchCV(text_clf, parameters_svc, cv=5, n_jobs=-1)\n",
    "grid_search_svc.fit(X_train, y_train)\n",
    "\n",
    "# Muestra los mejores parámetros encontrados para LinearSVC\n",
    "print(\"Mejores parámetros para LinearSVC:\")\n",
    "print(grid_search_svc.best_params_)\n",
    "\n"
   ]
  },
  {
   "cell_type": "code",
   "execution_count": null,
   "metadata": {},
   "outputs": [],
   "source": [
    "# Obtén los mejores parámetros encontrados para TfidfVectorizer y LinearSVC\n",
    "best_params_tfidf = grid_search_tfidf.best_params_\n",
    "best_params_svc = grid_search_svc.best_params_\n",
    "\n",
    "# Crea una nueva pipeline con los mejores parámetros encontrados\n",
    "best_pipeline = Pipeline([\n",
    "    ('tfidf', TfidfVectorizer(**best_params_tfidf)),\n",
    "    ('clf', LinearSVC(**best_params_svc))\n",
    "])\n",
    "\n",
    "\n",
    "best_pipeline.fit(X_train, y_train)\n",
    "\n",
    "predictions = best_pipeline.predict(X_test)"
   ]
  },
  {
   "cell_type": "code",
   "execution_count": null,
   "metadata": {},
   "outputs": [],
   "source": [
    "from sklearn.metrics import confusion_matrix, classification_report"
   ]
  },
  {
   "cell_type": "code",
   "execution_count": null,
   "metadata": {},
   "outputs": [],
   "source": [
    "print(confusion_matrix(y_test, predictions))"
   ]
  },
  {
   "cell_type": "code",
   "execution_count": null,
   "metadata": {},
   "outputs": [],
   "source": [
    "print(classification_report(y_test, predictions))"
   ]
  },
  {
   "cell_type": "code",
   "execution_count": null,
   "metadata": {},
   "outputs": [],
   "source": [
    "from sklearn import metrics\n",
    "metrics.accuracy_score(y_test, predictions)"
   ]
  },
  {
   "cell_type": "code",
   "execution_count": null,
   "metadata": {},
   "outputs": [],
   "source": [
    "text_clf.predict([\"Kill them where they lie ...kids as well\"])"
   ]
  }
 ],
 "metadata": {
  "kernelspec": {
   "display_name": "base",
   "language": "python",
   "name": "python3"
  },
  "language_info": {
   "codemirror_mode": {
    "name": "ipython",
    "version": 3
   },
   "file_extension": ".py",
   "mimetype": "text/x-python",
   "name": "python",
   "nbconvert_exporter": "python",
   "pygments_lexer": "ipython3",
   "version": "3.11.5"
  }
 },
 "nbformat": 4,
 "nbformat_minor": 2
}
