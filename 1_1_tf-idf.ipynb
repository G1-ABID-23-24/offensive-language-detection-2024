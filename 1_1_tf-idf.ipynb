{
 "cells": [
  {
   "cell_type": "markdown",
   "metadata": {},
   "source": [
    "# 1.1 TF-IDF"
   ]
  },
  {
   "cell_type": "code",
   "execution_count": 9,
   "metadata": {},
   "outputs": [],
   "source": [
    "import pandas as pd\n",
    "import numpy as np\n",
    "\n",
    "df = pd.read_csv('./data/train.csv')"
   ]
  },
  {
   "cell_type": "code",
   "execution_count": 12,
   "metadata": {},
   "outputs": [
    {
     "data": {
      "text/html": [
       "<div>\n",
       "<style scoped>\n",
       "    .dataframe tbody tr th:only-of-type {\n",
       "        vertical-align: middle;\n",
       "    }\n",
       "\n",
       "    .dataframe tbody tr th {\n",
       "        vertical-align: top;\n",
       "    }\n",
       "\n",
       "    .dataframe thead th {\n",
       "        text-align: right;\n",
       "    }\n",
       "</style>\n",
       "<table border=\"1\" class=\"dataframe\">\n",
       "  <thead>\n",
       "    <tr style=\"text-align: right;\">\n",
       "      <th></th>\n",
       "      <th>label</th>\n",
       "      <th>text</th>\n",
       "      <th>id</th>\n",
       "    </tr>\n",
       "  </thead>\n",
       "  <tbody>\n",
       "    <tr>\n",
       "      <th>0</th>\n",
       "      <td>0</td>\n",
       "      <td>Hi Roy hope you are ok, Trans people are not g...</td>\n",
       "      <td>95e98db99c2</td>\n",
       "    </tr>\n",
       "    <tr>\n",
       "      <th>1</th>\n",
       "      <td>0</td>\n",
       "      <td>But fuckin' hell what even is biology</td>\n",
       "      <td>a87b8708e63</td>\n",
       "    </tr>\n",
       "    <tr>\n",
       "      <th>2</th>\n",
       "      <td>0</td>\n",
       "      <td>Whose the nice looking clergyman?</td>\n",
       "      <td>5b3cb03803f</td>\n",
       "    </tr>\n",
       "    <tr>\n",
       "      <th>3</th>\n",
       "      <td>1</td>\n",
       "      <td>AIDS ARE IN YOUR WAY, SIN HAS CONSEQUENCES AND...</td>\n",
       "      <td>5b0bad2347e</td>\n",
       "    </tr>\n",
       "    <tr>\n",
       "      <th>4</th>\n",
       "      <td>0</td>\n",
       "      <td>to learn</td>\n",
       "      <td>332048bd188</td>\n",
       "    </tr>\n",
       "    <tr>\n",
       "      <th>...</th>\n",
       "      <td>...</td>\n",
       "      <td>...</td>\n",
       "      <td>...</td>\n",
       "    </tr>\n",
       "    <tr>\n",
       "      <th>8143</th>\n",
       "      <td>1</td>\n",
       "      <td>Yeah...if we still alive at the time of the ne...</td>\n",
       "      <td>9141edf7189</td>\n",
       "    </tr>\n",
       "    <tr>\n",
       "      <th>8144</th>\n",
       "      <td>0</td>\n",
       "      <td>There is something fundamentally wrong with this</td>\n",
       "      <td>fde30735725</td>\n",
       "    </tr>\n",
       "    <tr>\n",
       "      <th>8145</th>\n",
       "      <td>1</td>\n",
       "      <td>This always confused me. If homosexuality is \"...</td>\n",
       "      <td>3d3456b6659</td>\n",
       "    </tr>\n",
       "    <tr>\n",
       "      <th>8146</th>\n",
       "      <td>1</td>\n",
       "      <td>disgusting</td>\n",
       "      <td>eace075fe4d</td>\n",
       "    </tr>\n",
       "    <tr>\n",
       "      <th>8147</th>\n",
       "      <td>0</td>\n",
       "      <td>Peter Sørensen Just a note on Peter's poor mat...</td>\n",
       "      <td>da703acd01e</td>\n",
       "    </tr>\n",
       "  </tbody>\n",
       "</table>\n",
       "<p>8148 rows × 3 columns</p>\n",
       "</div>"
      ],
      "text/plain": [
       "      label                                               text           id\n",
       "0         0  Hi Roy hope you are ok, Trans people are not g...  95e98db99c2\n",
       "1         0              But fuckin' hell what even is biology  a87b8708e63\n",
       "2         0                  Whose the nice looking clergyman?  5b3cb03803f\n",
       "3         1  AIDS ARE IN YOUR WAY, SIN HAS CONSEQUENCES AND...  5b0bad2347e\n",
       "4         0                                           to learn  332048bd188\n",
       "...     ...                                                ...          ...\n",
       "8143      1  Yeah...if we still alive at the time of the ne...  9141edf7189\n",
       "8144      0   There is something fundamentally wrong with this  fde30735725\n",
       "8145      1  This always confused me. If homosexuality is \"...  3d3456b6659\n",
       "8146      1                                         disgusting  eace075fe4d\n",
       "8147      0  Peter Sørensen Just a note on Peter's poor mat...  da703acd01e\n",
       "\n",
       "[8148 rows x 3 columns]"
      ]
     },
     "execution_count": 12,
     "metadata": {},
     "output_type": "execute_result"
    }
   ],
   "source": [
    "import spacy\n",
    "\n",
    "nlp = spacy.load('en_core_web_lg')\n",
    "\n",
    "df"
   ]
  },
  {
   "cell_type": "code",
   "execution_count": 3,
   "metadata": {},
   "outputs": [],
   "source": [
    "en_stopwords = nlp.Defaults.stop_words\n",
    "\n",
    "def remove_stop_words(text):\n",
    "    cleanText = ''\n",
    "    phrase = nlp(text)\n",
    "    for token in phrase:\n",
    "        if not token.is_stop and not token.is_punct and not token.like_url:\n",
    "            cleanText += ' ' + token.text\n",
    "\n",
    "    return cleanText\n",
    "\n",
    "df['text_cleaned'] = df['text'].apply(remove_stop_words)"
   ]
  },
  {
   "cell_type": "code",
   "execution_count": 4,
   "metadata": {},
   "outputs": [
    {
     "data": {
      "text/plain": [
       "0        Hi Roy hope ok Trans people gay thing s ramme...\n",
       "1                                     fuckin hell biology\n",
       "2                                  nice looking clergyman\n",
       "3                           AIDS WAY SIN CONSEQUENCES BAD\n",
       "4                                                   learn\n",
       "                              ...                        \n",
       "8143     Yeah alive time election happen fairly soon U...\n",
       "8144                                  fundamentally wrong\n",
       "8145     confused homosexuality big deal proud normal ...\n",
       "8146                                           disgusting\n",
       "8147     Peter Sørensen note Peter poor maths 13 27 eq...\n",
       "Name: text_cleaned, Length: 8148, dtype: object"
      ]
     },
     "execution_count": 4,
     "metadata": {},
     "output_type": "execute_result"
    }
   ],
   "source": [
    "df['text_cleaned']"
   ]
  },
  {
   "cell_type": "markdown",
   "metadata": {},
   "source": [
    "Separamos el conjunto en entrenamiento y test."
   ]
  },
  {
   "cell_type": "code",
   "execution_count": 5,
   "metadata": {},
   "outputs": [],
   "source": [
    "from sklearn.model_selection import train_test_split\n",
    "\n",
    "X = df['text_cleaned']\n",
    "y = df['label']\n",
    "\n",
    "X_train, X_test, y_train, y_test, = train_test_split(X, y, test_size=0.33, random_state=42)"
   ]
  },
  {
   "cell_type": "code",
   "execution_count": null,
   "metadata": {},
   "outputs": [
    {
     "name": "stderr",
     "output_type": "stream",
     "text": [
      "C:\\Users\\ivana\\anaconda3\\Lib\\site-packages\\sklearn\\svm\\_classes.py:32: FutureWarning: The default value of `dual` will change from `True` to `'auto'` in 1.5. Set the value of `dual` explicitly to suppress the warning.\n",
      "  warnings.warn(\n"
     ]
    }
   ],
   "source": [
    "from sklearn.model_selection import GridSearchCV\n",
    "from sklearn.feature_extraction.text import TfidfVectorizer\n",
    "from sklearn.svm import LinearSVC\n",
    "from sklearn.pipeline import Pipeline\n",
    "\n",
    "# Define el pipeline\n",
    "text_clf = Pipeline([\n",
    "    ('tfidf', TfidfVectorizer()),\n",
    "    ('clf', LinearSVC())\n",
    "])\n",
    "\n",
    "# Define los parámetros para la búsqueda de cuadrícula de TfidfVectorizer\n",
    "parameters_tfidf = {\n",
    "    'tfidf__max_df': (0.25, 0.5, 0.75),\n",
    "    'tfidf__ngram_range': [(1, 1), (1, 2), (1, 3)],\n",
    "    'tfidf__token_pattern': (r\"\\b\\w\\w+\\b\", r\"\\b[a-zA-Z]{3,}\\b\"),\n",
    "    'tfidf__norm': ('l1', 'l2', None),\n",
    "    'tfidf__use_idf': (True, False),\n",
    "    'tfidf__sublinear_tf': (True, False)\n",
    "}\n",
    "\n",
    "# Realiza la búsqueda de cuadrícula para TfidfVectorizer\n",
    "grid_search_tfidf = GridSearchCV(text_clf, parameters_tfidf, cv=5, n_jobs=-1)\n",
    "grid_search_tfidf.fit(X_train, y_train)\n",
    "\n",
    "# Obtén los mejores parámetros encontrados para TfidfVectorizer\n",
    "best_params_tfidf = grid_search_tfidf.best_params_\n",
    "\n",
    "# Define los parámetros para la búsqueda de cuadrícula de LinearSVC\n",
    "parameters_svc = {\n",
    "    'clf__penalty': ('l1', 'l2'),\n",
    "    'clf__loss': ('hinge', 'squared_hinge'),\n",
    "    'clf__dual': (True, False),\n",
    "    'clf__tol': (1e-4, 1e-3),\n",
    "    'clf__C': (0.1, 1, 10),\n",
    "    'clf__multi_class': ('ovr', 'crammer_singer'),\n",
    "    'clf__fit_intercept': (True, False),\n",
    "    'clf__intercept_scaling': (1.0, 2.0),\n",
    "    'clf__class_weight': (None, 'balanced'),\n",
    "    'clf__verbose': (0, 1),\n",
    "    'clf__random_state': (None, 42),\n",
    "    'clf__max_iter': (1000, 2000)\n",
    "}\n",
    "\n",
    "# Actualiza el pipeline con los mejores parámetros de TfidfVectorizer\n",
    "text_clf.set_params(**best_params_tfidf)\n",
    "\n",
    "# Realiza la búsqueda de cuadrícula para LinearSVC utilizando los mejores parámetros de TfidfVectorizer\n",
    "grid_search_svc = GridSearchCV(text_clf, parameters_svc, cv=5, n_jobs=-1)\n",
    "grid_search_svc.fit(X_train, y_train)\n",
    "\n",
    "# Muestra los mejores parámetros encontrados para LinearSVC\n",
    "print(\"Mejores parámetros para LinearSVC:\")\n",
    "print(grid_search_svc.best_params_)"
   ]
  },
  {
   "cell_type": "code",
   "execution_count": null,
   "metadata": {},
   "outputs": [],
   "source": [
    "best_params_svc = grid_search_svc.best_params_\n",
    "\n",
    "# Crea una nueva pipeline con los mejores parámetros encontrados\n",
    "best_pipeline = Pipeline([\n",
    "    ('tfidf', TfidfVectorizer()),\n",
    "    ('clf', LinearSVC())\n",
    "])\n",
    "\n",
    "best_pipeline.set_params(**best_params_tfidf)\n",
    "best_pipeline.set_params(**best_params_svc)\n",
    "\n",
    "best_pipeline.fit(X_train, y_train)\n",
    "\n",
    "predictions = best_pipeline.predict(X_test)\n",
    "\n",
    "print(predictions)"
   ]
  },
  {
   "cell_type": "code",
   "execution_count": null,
   "metadata": {},
   "outputs": [],
   "source": [
    "from sklearn.metrics import confusion_matrix, classification_report"
   ]
  },
  {
   "cell_type": "code",
   "execution_count": 13,
   "metadata": {},
   "outputs": [
    {
     "name": "stdout",
     "output_type": "stream",
     "text": [
      "[[1457  243]\n",
      " [ 453  536]]\n"
     ]
    }
   ],
   "source": [
    "print(confusion_matrix(y_test, predictions))"
   ]
  },
  {
   "cell_type": "code",
   "execution_count": 14,
   "metadata": {},
   "outputs": [
    {
     "name": "stdout",
     "output_type": "stream",
     "text": [
      "              precision    recall  f1-score   support\n",
      "\n",
      "           0       0.76      0.86      0.81      1700\n",
      "           1       0.69      0.54      0.61       989\n",
      "\n",
      "    accuracy                           0.74      2689\n",
      "   macro avg       0.73      0.70      0.71      2689\n",
      "weighted avg       0.74      0.74      0.73      2689\n",
      "\n"
     ]
    }
   ],
   "source": [
    "print(classification_report(y_test, predictions))"
   ]
  },
  {
   "cell_type": "code",
   "execution_count": 15,
   "metadata": {},
   "outputs": [
    {
     "data": {
      "text/plain": [
       "0.7411677203421346"
      ]
     },
     "execution_count": 15,
     "metadata": {},
     "output_type": "execute_result"
    }
   ],
   "source": [
    "from sklearn import metrics\n",
    "metrics.accuracy_score(y_test, predictions)"
   ]
  }
 ],
 "metadata": {
  "kernelspec": {
   "display_name": "Python 3 (ipykernel)",
   "language": "python",
   "name": "python3"
  },
  "language_info": {
   "codemirror_mode": {
    "name": "ipython",
    "version": 3
   },
   "file_extension": ".py",
   "mimetype": "text/x-python",
   "name": "python",
   "nbconvert_exporter": "python",
   "pygments_lexer": "ipython3",
   "version": "3.11.5"
  }
 },
 "nbformat": 4,
 "nbformat_minor": 2
}
