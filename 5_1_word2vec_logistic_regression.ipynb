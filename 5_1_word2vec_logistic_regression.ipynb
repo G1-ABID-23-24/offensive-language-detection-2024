{
 "cells": [
  {
   "cell_type": "code",
   "execution_count": 16,
   "id": "7be7ae60",
   "metadata": {
    "scrolled": true
   },
   "outputs": [
    {
     "name": "stdout",
     "output_type": "stream",
     "text": [
      "Defaulting to user installation because normal site-packages is not writeable\n",
      "Requirement already satisfied: gensim in /home/j.sloro/.local/lib/python3.9/site-packages (4.3.2)\n",
      "Requirement already satisfied: smart-open>=1.8.1 in /home/j.sloro/.local/lib/python3.9/site-packages (from gensim) (6.4.0)\n",
      "Requirement already satisfied: numpy>=1.18.5 in /home/j.sloro/.local/lib/python3.9/site-packages (from gensim) (1.22.4)\n",
      "Requirement already satisfied: scipy>=1.7.0 in /opt/Anaconda/anaconda3-2021.11/lib/python3.9/site-packages (from gensim) (1.7.1)\n",
      "Defaulting to user installation because normal site-packages is not writeable\n",
      "Requirement already satisfied: spacy in /home/j.sloro/.local/lib/python3.9/site-packages (3.7.4)\n",
      "Requirement already satisfied: smart-open<7.0.0,>=5.2.1 in /home/j.sloro/.local/lib/python3.9/site-packages (from spacy) (6.4.0)\n",
      "Requirement already satisfied: weasel<0.4.0,>=0.1.0 in /home/j.sloro/.local/lib/python3.9/site-packages (from spacy) (0.3.4)\n",
      "Requirement already satisfied: requests<3.0.0,>=2.13.0 in /opt/Anaconda/anaconda3-2021.11/lib/python3.9/site-packages (from spacy) (2.26.0)\n",
      "Requirement already satisfied: cymem<2.1.0,>=2.0.2 in /home/j.sloro/.local/lib/python3.9/site-packages (from spacy) (2.0.8)\n",
      "Requirement already satisfied: jinja2 in /opt/Anaconda/anaconda3-2021.11/lib/python3.9/site-packages (from spacy) (2.11.3)\n",
      "Requirement already satisfied: tqdm<5.0.0,>=4.38.0 in /opt/Anaconda/anaconda3-2021.11/lib/python3.9/site-packages (from spacy) (4.62.3)\n",
      "Requirement already satisfied: setuptools in /opt/Anaconda/anaconda3-2021.11/lib/python3.9/site-packages (from spacy) (58.0.4)\n",
      "Requirement already satisfied: catalogue<2.1.0,>=2.0.6 in /home/j.sloro/.local/lib/python3.9/site-packages (from spacy) (2.0.10)\n",
      "Requirement already satisfied: numpy>=1.19.0 in /home/j.sloro/.local/lib/python3.9/site-packages (from spacy) (1.22.4)\n",
      "Requirement already satisfied: murmurhash<1.1.0,>=0.28.0 in /home/j.sloro/.local/lib/python3.9/site-packages (from spacy) (1.0.10)\n",
      "Requirement already satisfied: srsly<3.0.0,>=2.4.3 in /home/j.sloro/.local/lib/python3.9/site-packages (from spacy) (2.4.8)\n",
      "Requirement already satisfied: thinc<8.3.0,>=8.2.2 in /home/j.sloro/.local/lib/python3.9/site-packages (from spacy) (8.2.3)\n",
      "Requirement already satisfied: wasabi<1.2.0,>=0.9.1 in /home/j.sloro/.local/lib/python3.9/site-packages (from spacy) (1.1.2)\n",
      "Requirement already satisfied: packaging>=20.0 in /opt/Anaconda/anaconda3-2021.11/lib/python3.9/site-packages (from spacy) (21.0)\n",
      "Requirement already satisfied: pydantic!=1.8,!=1.8.1,<3.0.0,>=1.7.4 in /home/j.sloro/.local/lib/python3.9/site-packages (from spacy) (2.7.1)\n",
      "Requirement already satisfied: langcodes<4.0.0,>=3.2.0 in /home/j.sloro/.local/lib/python3.9/site-packages (from spacy) (3.4.0)\n",
      "Requirement already satisfied: typer<0.10.0,>=0.3.0 in /home/j.sloro/.local/lib/python3.9/site-packages (from spacy) (0.9.4)\n",
      "Requirement already satisfied: preshed<3.1.0,>=3.0.2 in /home/j.sloro/.local/lib/python3.9/site-packages (from spacy) (3.0.9)\n",
      "Requirement already satisfied: spacy-loggers<2.0.0,>=1.0.0 in /home/j.sloro/.local/lib/python3.9/site-packages (from spacy) (1.0.5)\n",
      "Requirement already satisfied: spacy-legacy<3.1.0,>=3.0.11 in /home/j.sloro/.local/lib/python3.9/site-packages (from spacy) (3.0.12)\n",
      "Requirement already satisfied: language-data>=1.2 in /home/j.sloro/.local/lib/python3.9/site-packages (from langcodes<4.0.0,>=3.2.0->spacy) (1.2.0)\n",
      "Requirement already satisfied: marisa-trie>=0.7.7 in /home/j.sloro/.local/lib/python3.9/site-packages (from language-data>=1.2->langcodes<4.0.0,>=3.2.0->spacy) (1.1.1)\n",
      "Requirement already satisfied: pyparsing>=2.0.2 in /opt/Anaconda/anaconda3-2021.11/lib/python3.9/site-packages (from packaging>=20.0->spacy) (3.0.4)\n",
      "Requirement already satisfied: typing-extensions>=4.6.1 in /home/j.sloro/.local/lib/python3.9/site-packages (from pydantic!=1.8,!=1.8.1,<3.0.0,>=1.7.4->spacy) (4.11.0)\n",
      "Requirement already satisfied: pydantic-core==2.18.2 in /home/j.sloro/.local/lib/python3.9/site-packages (from pydantic!=1.8,!=1.8.1,<3.0.0,>=1.7.4->spacy) (2.18.2)\n",
      "Requirement already satisfied: annotated-types>=0.4.0 in /home/j.sloro/.local/lib/python3.9/site-packages (from pydantic!=1.8,!=1.8.1,<3.0.0,>=1.7.4->spacy) (0.6.0)\n",
      "Requirement already satisfied: urllib3<1.27,>=1.21.1 in /opt/Anaconda/anaconda3-2021.11/lib/python3.9/site-packages (from requests<3.0.0,>=2.13.0->spacy) (1.26.7)\n",
      "Requirement already satisfied: charset-normalizer~=2.0.0 in /opt/Anaconda/anaconda3-2021.11/lib/python3.9/site-packages (from requests<3.0.0,>=2.13.0->spacy) (2.0.4)\n",
      "Requirement already satisfied: certifi>=2017.4.17 in /opt/Anaconda/anaconda3-2021.11/lib/python3.9/site-packages (from requests<3.0.0,>=2.13.0->spacy) (2021.10.8)\n",
      "Requirement already satisfied: idna<4,>=2.5 in /opt/Anaconda/anaconda3-2021.11/lib/python3.9/site-packages (from requests<3.0.0,>=2.13.0->spacy) (3.2)\n",
      "Requirement already satisfied: confection<1.0.0,>=0.0.1 in /home/j.sloro/.local/lib/python3.9/site-packages (from thinc<8.3.0,>=8.2.2->spacy) (0.1.4)\n",
      "Requirement already satisfied: blis<0.8.0,>=0.7.8 in /home/j.sloro/.local/lib/python3.9/site-packages (from thinc<8.3.0,>=8.2.2->spacy) (0.7.11)\n",
      "Requirement already satisfied: click<9.0.0,>=7.1.1 in /opt/Anaconda/anaconda3-2021.11/lib/python3.9/site-packages (from typer<0.10.0,>=0.3.0->spacy) (8.0.3)\n",
      "Requirement already satisfied: cloudpathlib<0.17.0,>=0.7.0 in /home/j.sloro/.local/lib/python3.9/site-packages (from weasel<0.4.0,>=0.1.0->spacy) (0.16.0)\n",
      "Requirement already satisfied: MarkupSafe>=0.23 in /opt/Anaconda/anaconda3-2021.11/lib/python3.9/site-packages (from jinja2->spacy) (1.1.1)\n"
     ]
    }
   ],
   "source": [
    "!pip3 install gensim\n",
    "!pip3 install spacy"
   ]
  },
  {
   "cell_type": "markdown",
   "id": "5f44a870",
   "metadata": {},
   "source": [
    "Inicialmente se va a realizar un preprocesado de los datos, eliminando las palabras sin significado útil, los url y los signos de puntuación."
   ]
  },
  {
   "cell_type": "code",
   "execution_count": 17,
   "id": "fcb35ba1",
   "metadata": {},
   "outputs": [],
   "source": [
    "import pandas as pd\n",
    "import numpy as np\n",
    "import gensim as gensim\n",
    "from gensim.models import Word2Vec\n",
    "import spacy\n",
    "from sklearn.model_selection import train_test_split, GridSearchCV\n",
    "from sklearn.pipeline import Pipeline\n",
    "from sklearn.ensemble import RandomForestClassifier\n",
    "from sklearn.metrics import confusion_matrix, classification_report, accuracy_score\n",
    "\n",
    "\n",
    "df = pd.read_csv('./data/train.csv')"
   ]
  },
  {
   "cell_type": "code",
   "execution_count": 18,
   "id": "d6fbdcf3",
   "metadata": {},
   "outputs": [
    {
     "name": "stdout",
     "output_type": "stream",
     "text": [
      "Defaulting to user installation because normal site-packages is not writeable\n",
      "Collecting en-core-web-lg==3.7.1\n",
      "  Using cached https://github.com/explosion/spacy-models/releases/download/en_core_web_lg-3.7.1/en_core_web_lg-3.7.1-py3-none-any.whl (587.7 MB)\n",
      "Requirement already satisfied: spacy<3.8.0,>=3.7.2 in /home/j.sloro/.local/lib/python3.9/site-packages (from en-core-web-lg==3.7.1) (3.7.4)\n",
      "Requirement already satisfied: weasel<0.4.0,>=0.1.0 in /home/j.sloro/.local/lib/python3.9/site-packages (from spacy<3.8.0,>=3.7.2->en-core-web-lg==3.7.1) (0.3.4)\n",
      "Requirement already satisfied: spacy-loggers<2.0.0,>=1.0.0 in /home/j.sloro/.local/lib/python3.9/site-packages (from spacy<3.8.0,>=3.7.2->en-core-web-lg==3.7.1) (1.0.5)\n",
      "Requirement already satisfied: setuptools in /opt/Anaconda/anaconda3-2021.11/lib/python3.9/site-packages (from spacy<3.8.0,>=3.7.2->en-core-web-lg==3.7.1) (58.0.4)\n",
      "Requirement already satisfied: packaging>=20.0 in /opt/Anaconda/anaconda3-2021.11/lib/python3.9/site-packages (from spacy<3.8.0,>=3.7.2->en-core-web-lg==3.7.1) (21.0)\n",
      "Requirement already satisfied: murmurhash<1.1.0,>=0.28.0 in /home/j.sloro/.local/lib/python3.9/site-packages (from spacy<3.8.0,>=3.7.2->en-core-web-lg==3.7.1) (1.0.10)\n",
      "Requirement already satisfied: preshed<3.1.0,>=3.0.2 in /home/j.sloro/.local/lib/python3.9/site-packages (from spacy<3.8.0,>=3.7.2->en-core-web-lg==3.7.1) (3.0.9)\n",
      "Requirement already satisfied: pydantic!=1.8,!=1.8.1,<3.0.0,>=1.7.4 in /home/j.sloro/.local/lib/python3.9/site-packages (from spacy<3.8.0,>=3.7.2->en-core-web-lg==3.7.1) (2.7.1)\n",
      "Requirement already satisfied: numpy>=1.19.0 in /home/j.sloro/.local/lib/python3.9/site-packages (from spacy<3.8.0,>=3.7.2->en-core-web-lg==3.7.1) (1.22.4)\n",
      "Requirement already satisfied: srsly<3.0.0,>=2.4.3 in /home/j.sloro/.local/lib/python3.9/site-packages (from spacy<3.8.0,>=3.7.2->en-core-web-lg==3.7.1) (2.4.8)\n",
      "Requirement already satisfied: requests<3.0.0,>=2.13.0 in /opt/Anaconda/anaconda3-2021.11/lib/python3.9/site-packages (from spacy<3.8.0,>=3.7.2->en-core-web-lg==3.7.1) (2.26.0)\n",
      "Requirement already satisfied: spacy-legacy<3.1.0,>=3.0.11 in /home/j.sloro/.local/lib/python3.9/site-packages (from spacy<3.8.0,>=3.7.2->en-core-web-lg==3.7.1) (3.0.12)\n",
      "Requirement already satisfied: langcodes<4.0.0,>=3.2.0 in /home/j.sloro/.local/lib/python3.9/site-packages (from spacy<3.8.0,>=3.7.2->en-core-web-lg==3.7.1) (3.4.0)\n",
      "Requirement already satisfied: cymem<2.1.0,>=2.0.2 in /home/j.sloro/.local/lib/python3.9/site-packages (from spacy<3.8.0,>=3.7.2->en-core-web-lg==3.7.1) (2.0.8)\n",
      "Requirement already satisfied: wasabi<1.2.0,>=0.9.1 in /home/j.sloro/.local/lib/python3.9/site-packages (from spacy<3.8.0,>=3.7.2->en-core-web-lg==3.7.1) (1.1.2)\n",
      "Requirement already satisfied: catalogue<2.1.0,>=2.0.6 in /home/j.sloro/.local/lib/python3.9/site-packages (from spacy<3.8.0,>=3.7.2->en-core-web-lg==3.7.1) (2.0.10)\n",
      "Requirement already satisfied: smart-open<7.0.0,>=5.2.1 in /home/j.sloro/.local/lib/python3.9/site-packages (from spacy<3.8.0,>=3.7.2->en-core-web-lg==3.7.1) (6.4.0)\n",
      "Requirement already satisfied: thinc<8.3.0,>=8.2.2 in /home/j.sloro/.local/lib/python3.9/site-packages (from spacy<3.8.0,>=3.7.2->en-core-web-lg==3.7.1) (8.2.3)\n",
      "Requirement already satisfied: tqdm<5.0.0,>=4.38.0 in /opt/Anaconda/anaconda3-2021.11/lib/python3.9/site-packages (from spacy<3.8.0,>=3.7.2->en-core-web-lg==3.7.1) (4.62.3)\n",
      "Requirement already satisfied: jinja2 in /opt/Anaconda/anaconda3-2021.11/lib/python3.9/site-packages (from spacy<3.8.0,>=3.7.2->en-core-web-lg==3.7.1) (2.11.3)\n",
      "Requirement already satisfied: typer<0.10.0,>=0.3.0 in /home/j.sloro/.local/lib/python3.9/site-packages (from spacy<3.8.0,>=3.7.2->en-core-web-lg==3.7.1) (0.9.4)\n",
      "Requirement already satisfied: language-data>=1.2 in /home/j.sloro/.local/lib/python3.9/site-packages (from langcodes<4.0.0,>=3.2.0->spacy<3.8.0,>=3.7.2->en-core-web-lg==3.7.1) (1.2.0)\n",
      "Requirement already satisfied: marisa-trie>=0.7.7 in /home/j.sloro/.local/lib/python3.9/site-packages (from language-data>=1.2->langcodes<4.0.0,>=3.2.0->spacy<3.8.0,>=3.7.2->en-core-web-lg==3.7.1) (1.1.1)\n",
      "Requirement already satisfied: pyparsing>=2.0.2 in /opt/Anaconda/anaconda3-2021.11/lib/python3.9/site-packages (from packaging>=20.0->spacy<3.8.0,>=3.7.2->en-core-web-lg==3.7.1) (3.0.4)\n",
      "Requirement already satisfied: pydantic-core==2.18.2 in /home/j.sloro/.local/lib/python3.9/site-packages (from pydantic!=1.8,!=1.8.1,<3.0.0,>=1.7.4->spacy<3.8.0,>=3.7.2->en-core-web-lg==3.7.1) (2.18.2)\n",
      "Requirement already satisfied: typing-extensions>=4.6.1 in /home/j.sloro/.local/lib/python3.9/site-packages (from pydantic!=1.8,!=1.8.1,<3.0.0,>=1.7.4->spacy<3.8.0,>=3.7.2->en-core-web-lg==3.7.1) (4.11.0)\n",
      "Requirement already satisfied: annotated-types>=0.4.0 in /home/j.sloro/.local/lib/python3.9/site-packages (from pydantic!=1.8,!=1.8.1,<3.0.0,>=1.7.4->spacy<3.8.0,>=3.7.2->en-core-web-lg==3.7.1) (0.6.0)\n",
      "Requirement already satisfied: certifi>=2017.4.17 in /opt/Anaconda/anaconda3-2021.11/lib/python3.9/site-packages (from requests<3.0.0,>=2.13.0->spacy<3.8.0,>=3.7.2->en-core-web-lg==3.7.1) (2021.10.8)\n",
      "Requirement already satisfied: idna<4,>=2.5 in /opt/Anaconda/anaconda3-2021.11/lib/python3.9/site-packages (from requests<3.0.0,>=2.13.0->spacy<3.8.0,>=3.7.2->en-core-web-lg==3.7.1) (3.2)\n",
      "Requirement already satisfied: charset-normalizer~=2.0.0 in /opt/Anaconda/anaconda3-2021.11/lib/python3.9/site-packages (from requests<3.0.0,>=2.13.0->spacy<3.8.0,>=3.7.2->en-core-web-lg==3.7.1) (2.0.4)\n",
      "Requirement already satisfied: urllib3<1.27,>=1.21.1 in /opt/Anaconda/anaconda3-2021.11/lib/python3.9/site-packages (from requests<3.0.0,>=2.13.0->spacy<3.8.0,>=3.7.2->en-core-web-lg==3.7.1) (1.26.7)\n",
      "Requirement already satisfied: blis<0.8.0,>=0.7.8 in /home/j.sloro/.local/lib/python3.9/site-packages (from thinc<8.3.0,>=8.2.2->spacy<3.8.0,>=3.7.2->en-core-web-lg==3.7.1) (0.7.11)\n",
      "Requirement already satisfied: confection<1.0.0,>=0.0.1 in /home/j.sloro/.local/lib/python3.9/site-packages (from thinc<8.3.0,>=8.2.2->spacy<3.8.0,>=3.7.2->en-core-web-lg==3.7.1) (0.1.4)\n",
      "Requirement already satisfied: click<9.0.0,>=7.1.1 in /opt/Anaconda/anaconda3-2021.11/lib/python3.9/site-packages (from typer<0.10.0,>=0.3.0->spacy<3.8.0,>=3.7.2->en-core-web-lg==3.7.1) (8.0.3)\n",
      "Requirement already satisfied: cloudpathlib<0.17.0,>=0.7.0 in /home/j.sloro/.local/lib/python3.9/site-packages (from weasel<0.4.0,>=0.1.0->spacy<3.8.0,>=3.7.2->en-core-web-lg==3.7.1) (0.16.0)\n",
      "Requirement already satisfied: MarkupSafe>=0.23 in /opt/Anaconda/anaconda3-2021.11/lib/python3.9/site-packages (from jinja2->spacy<3.8.0,>=3.7.2->en-core-web-lg==3.7.1) (1.1.1)\n",
      "\u001b[38;5;2m✔ Download and installation successful\u001b[0m\n",
      "You can now load the package via spacy.load('en_core_web_lg')\n"
     ]
    }
   ],
   "source": [
    "# Preprocesamiento del texto\n",
    "!python3 -m spacy download en_core_web_lg\n",
    "nlp = spacy.load('en_core_web_lg')"
   ]
  },
  {
   "cell_type": "markdown",
   "id": "f8ebba95",
   "metadata": {},
   "source": [
    "Preprocesamiento corrigiendo ortografia y eliminando URLs, puntuacion, emojis y stopwords"
   ]
  },
  {
   "cell_type": "code",
   "execution_count": null,
   "id": "75db78c3",
   "metadata": {},
   "outputs": [],
   "source": [
    "import re\n",
    "import string\n",
    "from spellchecker import SpellChecker\n",
    "en_stopwords = nlp.Defaults.stop_words\n",
    "\n",
    "#Function to correct spelling errors\n",
    "def correct_spellings(text):\n",
    "    spell = SpellChecker()\n",
    "    corrected_text = []\n",
    "    misspelled_words = spell.unknown(text.split())\n",
    "    for word in text.split():\n",
    "        if word in misspelled_words:\n",
    "            corrected_text.append(spell.correction(word))\n",
    "        else:\n",
    "            corrected_text.append(word)\n",
    "    return \" \".join(filter(None, corrected_text))\n",
    "        \n",
    "#Function to remove URLs\n",
    "def remove_URL(text):\n",
    "    url = re.compile(r'https?://\\S+|www\\.\\S+')\n",
    "    return url.sub(r'',text)\n",
    "\n",
    "#Function to remove emojis from the text\n",
    "def remove_emoji(text):\n",
    "    emoji_pattern = re.compile(\"[\"\n",
    "                           u\"\\U0001F600-\\U0001F64F\"  # emoticons\n",
    "                           u\"\\U0001F300-\\U0001F5FF\"  # symbols & pictographs\n",
    "                           u\"\\U0001F680-\\U0001F6FF\"  # transport & map symbols\n",
    "                           u\"\\U0001F1E0-\\U0001F1FF\"  # flags (iOS)\n",
    "                           u\"\\U00002702-\\U000027B0\"\n",
    "                           u\"\\U000024C2-\\U0001F251\"\n",
    "                           \"]+\", flags=re.UNICODE)\n",
    "    return emoji_pattern.sub(r'', text)\n",
    "\n",
    "#Function to remove punctuation\n",
    "def remove_punct(text):\n",
    "    table=str.maketrans('','',string.punctuation)\n",
    "    return text.translate(table)\n",
    "\n",
    "#Function to remove stopwords from the text\n",
    "def remove_stop_words(text):\n",
    "    cleanText = ''\n",
    "    phrase = nlp(text)\n",
    "    for token in phrase:\n",
    "        if not token.is_stop:\n",
    "        #and not token.is_punct and not token.like_url:\n",
    "            cleanText += ' ' + token.text\n",
    "    return cleanText\n",
    "\n",
    "#df['text']=df['text'].apply(lambda x : correct_spellings(x))\n",
    "df['text']=df['text'].apply(lambda x : remove_URL(x))\n",
    "#df['text']=df['text'].apply(lambda x : remove_emoji(x))\n",
    "df['text']=df['text'].apply(lambda x : remove_punct(x))\n",
    "df['text']=df['text'].apply(remove_stop_words)\n",
    "\n",
    "df['text_cleaned'] = df['text'].apply(lambda x: gensim.utils.simple_preprocess(x))"
   ]
  },
  {
   "cell_type": "code",
   "execution_count": null,
   "id": "9b0a1682",
   "metadata": {},
   "outputs": [],
   "source": [
    "df['text_cleaned']"
   ]
  },
  {
   "cell_type": "markdown",
   "id": "cc738779",
   "metadata": {},
   "source": [
    "Division del dataset en train y test"
   ]
  },
  {
   "cell_type": "code",
   "execution_count": null,
   "id": "d6d62e1f",
   "metadata": {},
   "outputs": [],
   "source": [
    "# Separar datos de entrenamiento y prueba\n",
    "from sklearn.model_selection import train_test_split\n",
    "X_train, X_test, y_train, y_test = train_test_split(df['text_cleaned'], df[\"label\"], test_size=0.33, random_state=42)"
   ]
  },
  {
   "cell_type": "markdown",
   "id": "d484d310",
   "metadata": {},
   "source": [
    "Entrenamiento del modelo de vectorización"
   ]
  },
  {
   "cell_type": "code",
   "execution_count": null,
   "id": "c4e5b1b9",
   "metadata": {},
   "outputs": [],
   "source": [
    "word2vec_model = Word2Vec(X_train, vector_size=100, window=5, min_count=2)\n",
    "\n",
    "words = set(word2vec_model.wv.index_to_key )\n",
    "X_train_vect = np.array([np.array([word2vec_model.wv[i] for i in ls if i in words])\n",
    "                         for ls in X_train])\n",
    "X_test_vect = np.array([np.array([word2vec_model.wv[i] for i in ls if i in words])\n",
    "                         for ls in X_test])"
   ]
  },
  {
   "cell_type": "code",
   "execution_count": null,
   "id": "7c43e435",
   "metadata": {},
   "outputs": [],
   "source": [
    "# Compute sentence vectors by averaging the word vectors for the words contained in the sentence\n",
    "X_train_vect_avg = []\n",
    "for v in X_train_vect:\n",
    "    if v.size:\n",
    "        X_train_vect_avg.append(v.mean(axis=0))\n",
    "    else:\n",
    "        X_train_vect_avg.append(np.zeros(100, dtype=float))\n",
    "        \n",
    "X_test_vect_avg = []\n",
    "for v in X_test_vect:\n",
    "    if v.size:\n",
    "        X_test_vect_avg.append(v.mean(axis=0))\n",
    "    else:\n",
    "        X_test_vect_avg.append(np.zeros(100, dtype=float))"
   ]
  },
  {
   "cell_type": "markdown",
   "id": "6c4a96a0",
   "metadata": {},
   "source": [
    "Entrenamiento del modelo de clasificación"
   ]
  },
  {
   "cell_type": "code",
   "execution_count": null,
   "id": "1eaf7828",
   "metadata": {},
   "outputs": [],
   "source": [
    "from sklearn.svm import SVC\n",
    "from sklearn.linear_model import LogisticRegression\n",
    "from sklearn.model_selection import cross_val_score, GridSearchCV\n",
    "\n",
    "word2vec_pipe = Pipeline([('estimator', LogisticRegression())])\n",
    "\n",
    "# fit pipeline\n",
    "word2vec_pipe.fit(X_train_vect_avg, y_train.values.ravel())"
   ]
  },
  {
   "cell_type": "markdown",
   "id": "a796c923",
   "metadata": {},
   "source": [
    "Optimizacion de parametros"
   ]
  },
  {
   "cell_type": "code",
   "execution_count": null,
   "id": "8af842af",
   "metadata": {},
   "outputs": [],
   "source": [
    "param_grid = {\n",
    "    'estimator__penalty': ['l1','l2'], \n",
    "    'estimator__C': [100, 10, 1.0, 0.1, 0.01],\n",
    "    'estimator__solver': ['newton-cg', 'lbfgs', 'liblinear']\n",
    "}\n",
    "\n",
    "word2vec_grid_search = GridSearchCV(\n",
    "    estimator = word2vec_pipe,\n",
    "    param_grid = param_grid,\n",
    "    scoring = 'f1',\n",
    "    n_jobs = -1,\n",
    "    refit = True,\n",
    "    verbose = 1,\n",
    "    return_train_score = True\n",
    ")\n",
    "\n",
    "# fit RandomizedSearchCV object\n",
    "word2vec_grid_search.fit(X_train_vect_avg, y_train.values.ravel())\n",
    "\n",
    "pd.options.display.max_colwidth = 50\n",
    "\n",
    "word2vec_grid_search_results = pd.DataFrame(word2vec_grid_search.cv_results_).sort_values(by = 'mean_test_score', ascending = False)"
   ]
  },
  {
   "cell_type": "markdown",
   "id": "56dfe49a",
   "metadata": {},
   "source": [
    "Prediccion:"
   ]
  },
  {
   "cell_type": "code",
   "execution_count": null,
   "id": "7b7745c4",
   "metadata": {},
   "outputs": [],
   "source": [
    "predictions = word2vec_grid_search.predict(X_test_vect_avg)"
   ]
  },
  {
   "cell_type": "markdown",
   "id": "2201028f",
   "metadata": {},
   "source": [
    "Resultados:"
   ]
  },
  {
   "cell_type": "code",
   "execution_count": null,
   "id": "ceca3730",
   "metadata": {},
   "outputs": [],
   "source": [
    "from sklearn.metrics import confusion_matrix, classification_report\n",
    "\n",
    "print(confusion_matrix(y_test, predictions))"
   ]
  },
  {
   "cell_type": "code",
   "execution_count": null,
   "id": "7c72c3b7",
   "metadata": {},
   "outputs": [],
   "source": [
    "print(classification_report(y_test, predictions))"
   ]
  },
  {
   "cell_type": "code",
   "execution_count": null,
   "id": "bfeb0212",
   "metadata": {},
   "outputs": [],
   "source": [
    "from sklearn import metrics\n",
    "accuracy = metrics.accuracy_score(y_test, predictions)\n",
    "print(\"Accuracy:\", accuracy)"
   ]
  }
 ],
 "metadata": {
  "kernelspec": {
   "display_name": "Python 3 (ipykernel)",
   "language": "python",
   "name": "python3"
  },
  "language_info": {
   "codemirror_mode": {
    "name": "ipython",
    "version": 3
   },
   "file_extension": ".py",
   "mimetype": "text/x-python",
   "name": "python",
   "nbconvert_exporter": "python",
   "pygments_lexer": "ipython3",
   "version": "3.8.10"
  }
 },
 "nbformat": 4,
 "nbformat_minor": 5
}
